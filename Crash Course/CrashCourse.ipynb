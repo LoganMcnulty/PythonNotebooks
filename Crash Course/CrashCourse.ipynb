{
 "cells": [
  {
   "cell_type": "code",
   "execution_count": null,
   "metadata": {},
   "outputs": [],
   "source": [
    "# Developer: Logan"
   ]
  },
  {
   "cell_type": "markdown",
   "metadata": {},
   "source": [
    "# Python Crash Course, 2nd Edition"
   ]
  },
  {
   "cell_type": "code",
   "execution_count": 3,
   "metadata": {},
   "outputs": [
    {
     "name": "stdout",
     "output_type": "stream",
     "text": [
      "The Zen of Python, by Tim Peters\n",
      "\n",
      "Beautiful is better than ugly.\n",
      "Explicit is better than implicit.\n",
      "Simple is better than complex.\n",
      "Complex is better than complicated.\n",
      "Flat is better than nested.\n",
      "Sparse is better than dense.\n",
      "Readability counts.\n",
      "Special cases aren't special enough to break the rules.\n",
      "Although practicality beats purity.\n",
      "Errors should never pass silently.\n",
      "Unless explicitly silenced.\n",
      "In the face of ambiguity, refuse the temptation to guess.\n",
      "There should be one-- and preferably only one --obvious way to do it.\n",
      "Although that way may not be obvious at first unless you're Dutch.\n",
      "Now is better than never.\n",
      "Although never is often better than *right* now.\n",
      "If the implementation is hard to explain, it's a bad idea.\n",
      "If the implementation is easy to explain, it may be a good idea.\n",
      "Namespaces are one honking great idea -- let's do more of those!\n"
     ]
    }
   ],
   "source": [
    "import this"
   ]
  },
  {
   "cell_type": "markdown",
   "metadata": {},
   "source": [
    "# Newbie refreshers"
   ]
  },
  {
   "cell_type": "markdown",
   "metadata": {},
   "source": [
    "## Lists"
   ]
  },
  {
   "cell_type": "markdown",
   "metadata": {},
   "source": [
    "### List Basics"
   ]
  },
  {
   "cell_type": "code",
   "execution_count": 15,
   "metadata": {},
   "outputs": [
    {
     "name": "stdout",
     "output_type": "stream",
     "text": [
      "['TSLA', 'SPOT', 'MDB', 'SMPL', 'IOVA', 'CRSP']\n",
      "['TSLA', 'SPOT', 'MDB', 'SMPL', 'IOVA']\n",
      "['TSLA', 'SPOT', 'MDB', 'SMPL', 'IOVA', 'AMZN']\n",
      "['TSLA', 'SPOT', 'MDB', 'MELI', 'SMPL', 'IOVA', 'AMZN']\n",
      "TSLA\n",
      "['SPOT', 'MDB', 'MELI', 'SMPL', 'AMZN']\n",
      "how to print\n",
      "new lines\n",
      "['SPOT', 'SMPL', 'MELI', 'MDB', 'AMZN']\n",
      "['AMZN', 'MDB', 'MELI', 'SMPL', 'SPOT']\n",
      "['AMZN', 'MDB', 'MELI', 'SMPL', 'SPOT']\n",
      "5\n"
     ]
    }
   ],
   "source": [
    "stocks = ['TSLA', 'SPOT', 'MDB','SMPL', 'IOVA','CRSP']\n",
    "print(stocks)\n",
    "del stocks[-1]\n",
    "print(stocks)\n",
    "stocks.append('AMZN')\n",
    "print(stocks)\n",
    "stocks.insert(3, 'MELI')\n",
    "print(stocks)\n",
    "\n",
    "pop_a_stock = stocks.pop(0)\n",
    "print(pop_a_stock)\n",
    "\n",
    "stocks.remove('IOVA')\n",
    "print(stocks)\n",
    "\n",
    "print(\"how to print\" + \"\\n\" + \"new lines\")\n",
    "\n",
    "stocks.sort(reverse=True)\n",
    "print(stocks)\n",
    "\n",
    "print(sorted(stocks))\n",
    "\n",
    "# reverse does not sort backwards alphabetically, it just reverses whatever's there\n",
    "stocks.reverse()\n",
    "print(stocks)\n",
    "\n",
    "print(len(stocks))"
   ]
  },
  {
   "cell_type": "markdown",
   "metadata": {},
   "source": [
    "### Working with lists"
   ]
  },
  {
   "cell_type": "code",
   "execution_count": 43,
   "metadata": {},
   "outputs": [
    {
     "name": "stdout",
     "output_type": "stream",
     "text": [
      "AMZN\n",
      "MDB\n",
      "MELI\n",
      "SMPL\n",
      "SPOT\n",
      "[1, 4, 9, 16, 25, 36, 49, 64, 81]\n",
      "[8, 27, 64]\n",
      "[1, 8, 27, 64, 125]\n",
      "[216, 343, 512, 729, 1000]\n",
      "MELI\n",
      "SMPL\n",
      "SPOT\n",
      "['AMZN', 'MDB', 'MELI', 'SMPL', 'SPOT']\n",
      "['AMZN', 'MDB', 'MELI', 'SMPL', 'SPOT', 'SQ']\n",
      "10\n"
     ]
    }
   ],
   "source": [
    "for stock in stocks:\n",
    "    print(stock)\n",
    "    \n",
    "x = range(1,10)\n",
    "nums = []\n",
    "for num in x:\n",
    "    nums.append(num**2)\n",
    "    \n",
    "print(nums)\n",
    "min(nums)\n",
    "max(nums)\n",
    "sum(nums)\n",
    "\n",
    "# List comprehensions\n",
    "More_Nums = [value**3 for value in range(1,11)]\n",
    "More_Nums\n",
    "print(More_Nums[1:4])\n",
    "print(More_Nums[:5])\n",
    "print(More_Nums[5:])\n",
    "\n",
    "for stock in stocks[2:]:\n",
    "    print(stock)\n",
    "    \n",
    "# lists are useful in gaming, for example, adding highscores list, or getting top 3 scores\n",
    "\n",
    "# copy a list\n",
    "\n",
    "stocks2 = stocks[:]\n",
    "stocks2.append('SQ')\n",
    "print(stocks)\n",
    "print(stocks2)\n",
    "\n",
    "# Tuples are immutable (cannot change) lists\n",
    "dimensions = (10, 20)\n",
    "print(dimensions[0])\n",
    "\n"
   ]
  },
  {
   "cell_type": "markdown",
   "metadata": {},
   "source": [
    "### If statements"
   ]
  },
  {
   "cell_type": "code",
   "execution_count": 81,
   "metadata": {},
   "outputs": [
    {
     "name": "stdout",
     "output_type": "stream",
     "text": [
      "User, Butch, not found.\n",
      "10\n"
     ]
    }
   ],
   "source": [
    "users = ['Tim', 'Jessica', 'Logan']\n",
    "user = 'Butch'\n",
    "\n",
    "if user not in users:\n",
    "    print('User, ' + user + ', not found.')\n",
    "    \n",
    "age = 42\n",
    "if age < 4:\n",
    "    price = 0\n",
    "elif age < 18:\n",
    "    price = 5\n",
    "elif age <65:\n",
    "    price = 10\n",
    "else:\n",
    "    price = 5\n",
    "    \n",
    "print(price)\n",
    "\n",
    "empty = []"
   ]
  },
  {
   "cell_type": "markdown",
   "metadata": {},
   "source": [
    "### Dictionaries"
   ]
  },
  {
   "cell_type": "code",
   "execution_count": 88,
   "metadata": {},
   "outputs": [
    {
     "name": "stdout",
     "output_type": "stream",
     "text": [
      "Green\n",
      "2\n",
      "Brown\n",
      "Chicken starting coordinates...\n",
      "x-axis: 0\n",
      "y-axis: 10\n",
      "Chicken starting coordinates...\n",
      "x-axis: 6\n",
      "y-axis: 20\n",
      "{'x_pos': 6, 'y_pos': 20, 'speed': 'medium', 'error_log': 'chicken stuck on fence'}\n",
      "{'x_pos': 6, 'y_pos': 20, 'speed': 'medium'}\n",
      "\n",
      "carl's favorite stock is XOM\n",
      "\n",
      "lucy's favorite stock is LULU\n",
      "\n",
      "chad's favorite stock is NKE\n",
      "\n",
      "logan's favorite stock is TSLA\n",
      "\n",
      "john's favorite stock is AAPL\n",
      "{'carl': 'XOM', 'lucy': 'LULU', 'chad': 'NKE', 'logan': 'TSLA', 'john': 'AAPL'}\n",
      "dict_items([('carl', 'XOM'), ('lucy', 'LULU'), ('chad', 'NKE'), ('logan', 'TSLA'), ('john', 'AAPL')])\n",
      "carl\n",
      "lucy\n",
      "chad\n",
      "logan\n",
      "john\n",
      "XOM\n",
      "LULU\n",
      "NKE\n",
      "TSLA\n",
      "AAPL\n",
      "Sean, what is your fav stock??\n",
      "Thank you carl for taking the poll\n",
      "Thank you chad for taking the poll\n",
      "Thank you john for taking the poll\n",
      "Thank you logan for taking the poll\n",
      "Thank you lucy for taking the poll\n",
      "{'carl': 'XOM', 'lucy': 'LULU', 'chad': 'NKE', 'logan': 'TSLA', 'john': 'AAPL', 'Dai': 'AAPL'}\n",
      "~~~ These are the favorite stocks ~~~\n",
      "AAPL\n",
      "\n",
      "LULU\n",
      "\n",
      "NKE\n",
      "\n",
      "TSLA\n",
      "\n",
      "XOM\n",
      "\n"
     ]
    }
   ],
   "source": [
    "goblin = {'color': 'Green', 'hitpoints':5, 'maxHit': 2}\n",
    "print(goblin['color'])\n",
    "print(goblin['maxHit'])\n",
    "goblin['location'] = 'Lumbridge'\n",
    "goblin['color'] = 'Brown'\n",
    "print(goblin['color'])\n",
    "\n",
    "chicken = {'x_pos': 0, 'y_pos':10, 'speed':'medium', 'error_log':'chicken stuck on fence'}\n",
    "def moveObject(enemy, horz, vert):\n",
    "    if enemy['speed'] == 'slow':\n",
    "        increment = 1\n",
    "    elif enemy['speed'] == 'medium':\n",
    "        increment = 2\n",
    "    elif enemy['speed'] == 'fast':\n",
    "        increment = 3\n",
    "        \n",
    "    enemy['x_pos'] = enemy['x_pos'] + increment * horz\n",
    "    enemy['y_pos'] = enemy['y_pos'] + increment * vert\n",
    "    \n",
    "    return enemy\n",
    "\n",
    "print(\"Chicken starting coordinates...\" + \"\\n\" + 'x-axis: ' + str(chicken['x_pos']) \n",
    "     + \"\\n\" + 'y-axis: ' + str(chicken['y_pos']))\n",
    "\n",
    "chicken = moveObject(chicken, 3, 5)\n",
    "print(\"Chicken starting coordinates...\" + \"\\n\" + 'x-axis: ' + str(chicken['x_pos']) \n",
    "     + \"\\n\" + 'y-axis: ' + str(chicken['y_pos']))\n",
    "\n",
    "print(chicken)\n",
    "del chicken['error_log']\n",
    "print(chicken)\n",
    "\n",
    "fav_stocks = {\n",
    "    'carl':'XOM',\n",
    "    'lucy':'LULU',\n",
    "    'chad':'NKE',\n",
    "    'logan':'TSLA',\n",
    "    'john':'AAPL'\n",
    "}\n",
    "\n",
    "# looping through a dictionary\n",
    "for person, stock in fav_stocks.items():\n",
    "    print(\"\\n\" + person + \"'s favorite stock is \" + stock)\n",
    "    \n",
    "# notice what .items() does\n",
    "print(fav_stocks)\n",
    "print(fav_stocks.items())\n",
    "\n",
    "# Looping for just the keys or values\n",
    "for person in fav_stocks.keys():\n",
    "    print(person)\n",
    "for stock in fav_stocks.values():\n",
    "    print(stock)\n",
    "    \n",
    "if 'sean' not in fav_stocks.keys():\n",
    "    print('Sean, what is your fav stock??')\n",
    "    \n",
    "# sort a for loop by keys\n",
    "for person in sorted(fav_stocks.keys()):\n",
    "    print('Thank you ' + person + ' for taking the poll')\n",
    "    \n",
    "# sets are unique. What if someone has a similar fav stock, and we want just the fav stocks, not repeated?\n",
    "fav_stocks['Dai'] = 'AAPL'\n",
    "print(fav_stocks)\n",
    "print('~~~ These are the favorite stocks ~~~')\n",
    "for stock in sorted(set(fav_stocks.values())):\n",
    "    print(stock + '\\n')\n"
   ]
  },
  {
   "cell_type": "markdown",
   "metadata": {},
   "source": [
    "### Nesting"
   ]
  },
  {
   "cell_type": "markdown",
   "metadata": {},
   "source": [
    "#### Dictionary inside a list"
   ]
  },
  {
   "cell_type": "code",
   "execution_count": 108,
   "metadata": {},
   "outputs": [
    {
     "name": "stdout",
     "output_type": "stream",
     "text": [
      "Black Knight\n",
      "Dragon\n",
      "Demon\n",
      "Wizard\n",
      "Black Knight\n",
      "Dragon\n",
      "Total number of enemies: 12\n"
     ]
    }
   ],
   "source": [
    "\n",
    "BlackKnight = {'name':'Black Knight','hitpoints': 20, 'maxhit': 10, 'speed':5}\n",
    "Dragon = {'name':'Dragon','hitpoints': 30, 'maxhit': 20, 'speed':2}\n",
    "Demon = {'name':'Demon','hitpoints': 15, 'maxhit': 7, 'speed':4}\n",
    "Wizard = {'name':'Wizard','hitpoints': 10, 'maxhit': 15, 'speed':3}\n",
    "\n",
    "enemies = []\n",
    "\n",
    "# make 3 of each enemy\n",
    "for enemyNum in range(3):\n",
    "    enemies.append(BlackKnight)\n",
    "    enemies.append(Dragon)\n",
    "    enemies.append(Demon)    \n",
    "    enemies.append(Wizard)\n",
    "    \n",
    "# show some enemies\n",
    "for enemy in enemies[:6]:\n",
    "    print(enemy['name'])\n",
    "    \n",
    "print(\"Total number of enemies: \" + str(len(enemies)))"
   ]
  },
  {
   "cell_type": "markdown",
   "metadata": {},
   "source": [
    "#### List in a dictionary"
   ]
  },
  {
   "cell_type": "code",
   "execution_count": 113,
   "metadata": {},
   "outputs": [
    {
     "name": "stdout",
     "output_type": "stream",
     "text": [
      "you ordered a brown rice poke bowl with the following toppings...\n",
      "tuna\n",
      "avocado\n",
      "sesame seeds\n",
      "seaweed\n",
      "octopus\n",
      "\n",
      "\n",
      "John's favorite toppings are...\n",
      "tuna\n",
      "avocado\n",
      "sweet potato\n",
      "\n",
      "\n",
      "Logan's favorite toppings are...\n",
      "salmon\n",
      "sesame seeds\n",
      "tamago\n",
      "\n",
      "\n",
      "Wendy's favorite toppings are...\n",
      "octopus\n",
      "seaweed\n",
      "daikon\n",
      "\n",
      "\n"
     ]
    }
   ],
   "source": [
    "pokeBowl = {\n",
    "    'base': 'brown rice',\n",
    "    'toppings': ['tuna','avocado','sesame seeds','seaweed','octopus']\n",
    "}\n",
    "print('you ordered a ' + pokeBowl['base'] + ' poke bowl with the following toppings...')\n",
    "for topping in pokeBowl['toppings']:\n",
    "    print(topping)\n",
    "\n",
    "print('\\n')\n",
    "pokeBowls = {\n",
    "    'john': ['tuna', 'avocado', 'sweet potato'],\n",
    "    'logan': ['salmon', 'sesame seeds', 'tamago'],\n",
    "    'wendy' : ['octopus', 'seaweed', 'daikon']\n",
    "}\n",
    "\n",
    "for name, toppings in pokeBowls.items():\n",
    "    print(name.title() + \"'s favorite toppings are...\")\n",
    "    for topping in toppings:\n",
    "        print(topping)\n",
    "        \n",
    "    print('\\n')"
   ]
  },
  {
   "cell_type": "markdown",
   "metadata": {},
   "source": [
    "#### Dictionary in a dictionary"
   ]
  },
  {
   "cell_type": "code",
   "execution_count": 119,
   "metadata": {},
   "outputs": [
    {
     "name": "stdout",
     "output_type": "stream",
     "text": [
      "\n",
      "Name: BlackKnight\n",
      "Max Hit: 10\n",
      "Hit Points: 20\n",
      "Speed: 5\n",
      "\n",
      "Name: Dragon\n",
      "Max Hit: 20\n",
      "Hit Points: 30\n",
      "Speed: 2\n",
      "\n",
      "Name: Demon\n",
      "Max Hit: 7\n",
      "Hit Points: 15\n",
      "Speed: 4\n",
      "\n",
      "Name: Wizard\n",
      "Max Hit: 15\n",
      "Hit Points: 10\n",
      "Speed: 3\n"
     ]
    }
   ],
   "source": [
    "BlackKnight = {'name':'Black Knight','hitpoints': 20, 'maxhit': 10, 'speed':5}\n",
    "Dragon = {'name':'Dragon','hitpoints': 30, 'maxhit': 20, 'speed':2}\n",
    "Demon = {'name':'Demon','hitpoints': 15, 'maxhit': 7, 'speed':4}\n",
    "Wizard = {'name':'Wizard','hitpoints': 10, 'maxhit': 15, 'speed':3}\n",
    "\n",
    "enemies = {\n",
    "    'BlackKnight':BlackKnight,\n",
    "    'Dragon': Dragon,\n",
    "    'Demon': Demon,\n",
    "    'Wizard': Wizard\n",
    "}\n",
    "for enemyName, enemy_info in enemies.items():\n",
    "    print('\\nName: ' + enemyName)\n",
    "    print('Max Hit: ' + str(enemy_info['maxhit']))\n",
    "    print('Hit Points: ' + str(enemy_info['hitpoints']))\n",
    "    print('Speed: ' + str(enemy_info['speed']))"
   ]
  },
  {
   "cell_type": "markdown",
   "metadata": {},
   "source": [
    "# Begin New Stuff"
   ]
  },
  {
   "cell_type": "markdown",
   "metadata": {},
   "source": [
    "# User Input, while loops"
   ]
  },
  {
   "cell_type": "markdown",
   "metadata": {},
   "source": [
    "## Simple Input "
   ]
  },
  {
   "cell_type": "code",
   "execution_count": 7,
   "metadata": {},
   "outputs": [
    {
     "name": "stdin",
     "output_type": "stream",
     "text": [
      "Welcome to Warcraft\n",
      "What is your combat class?  mage\n"
     ]
    },
    {
     "name": "stdout",
     "output_type": "stream",
     "text": [
      "Looks like you are a mage\n"
     ]
    },
    {
     "name": "stdin",
     "output_type": "stream",
     "text": [
      "On a scale of 1-10, how familiar are you with RPGs? 8\n"
     ]
    },
    {
     "name": "stdout",
     "output_type": "stream",
     "text": [
      "10\n",
      "20\n",
      "30\n",
      "40\n",
      "50\n",
      "60\n",
      "70\n",
      "80\n",
      "90\n",
      "100\n"
     ]
    }
   ],
   "source": [
    "welcome = 'Welcome to Warcraft'\n",
    "welcome += '\\nWhat is your combat class? '\n",
    "combatClass = input(welcome)\n",
    "print('Looks like you are a ' + combatClass)\n",
    "familiarity = int(input('On a scale of 1-10, how familiar are you with RPGs?'))"
   ]
  },
  {
   "cell_type": "markdown",
   "metadata": {},
   "source": [
    "## Input in a while loop"
   ]
  },
  {
   "cell_type": "code",
   "execution_count": 1,
   "metadata": {},
   "outputs": [
    {
     "name": "stdin",
     "output_type": "stream",
     "text": [
      "\n",
      "tell me someting and i'll repeat it\n",
      "enter 'quit' to end the program. break\n"
     ]
    },
    {
     "name": "stdout",
     "output_type": "stream",
     "text": [
      "1\n",
      "3\n",
      "5\n",
      "7\n",
      "9\n"
     ]
    }
   ],
   "source": [
    "prompt = \"\\ntell me someting and i'll repeat it\"\n",
    "prompt += \"\\nenter 'quit' to end the program.\"\n",
    "# flags are used to determine if a program should still be running\n",
    "# we can write our games to run while the flag is set to true, stop when false\n",
    "\n",
    "active = True\n",
    "while active:\n",
    "    message = input(prompt)\n",
    "    \n",
    "    if message =='quit':\n",
    "        active = False\n",
    "# break out from a while loop\n",
    "    if message == 'break':\n",
    "        break\n",
    "        \n",
    "    else:\n",
    "        print(\"\\n\" + message)\n",
    "        \n",
    "# using continue\n",
    "num = 0\n",
    "while num <10:\n",
    "    num += 1\n",
    "    if num %2 == 0:\n",
    "        continue\n",
    "    print(num)"
   ]
  },
  {
   "cell_type": "markdown",
   "metadata": {},
   "source": [
    "## Modify lists using while loop"
   ]
  },
  {
   "cell_type": "code",
   "execution_count": 23,
   "metadata": {},
   "outputs": [
    {
     "name": "stdout",
     "output_type": "stream",
     "text": [
      "Moving a sword to your bank!\n",
      "Moving a bucket to your bank!\n",
      "Moving a saw to your bank!\n",
      "Moving a hammer to your bank!\n",
      "bank contains\n",
      "sword\n",
      "saw\n",
      "bucket\n",
      "saw\n",
      "saw\n",
      "saw\n",
      "hammer\n",
      "saw\n",
      "\n",
      "we have too many saws... let's remove them\n",
      "\n",
      "bank --> ['sword', 'bucket', 'hammer']\n",
      "inventory --> []\n"
     ]
    }
   ],
   "source": [
    "# use while loops to modify lists or dictionaries that you are working through\n",
    "# moving items from one list to another\n",
    "inventory = ['hammer', 'saw', 'bucket', 'sword']\n",
    "bank = []\n",
    "def inventToBank(inventory, bank):\n",
    "    while inventory:\n",
    "        item = inventory.pop()\n",
    "        print(\"Moving a \" + item + \" to your bank!\")\n",
    "        bank.append(item)\n",
    "        bank.append('saw')\n",
    "\n",
    "    print(\"bank contains\")\n",
    "    for item in bank:\n",
    "        print(item)\n",
    "\n",
    "    print(\"\\nwe have too many saws... let's remove them\\n\")\n",
    "\n",
    "    while 'saw' in bank:\n",
    "        bank.remove('saw')\n",
    "\n",
    "    print(\"bank --> \" + str(bank))\n",
    "    print(\"inventory --> \" + str(inventory))\n",
    "    \n",
    "inventToBank(inventory, bank)"
   ]
  },
  {
   "cell_type": "markdown",
   "metadata": {},
   "source": [
    "## While loop for polling using input"
   ]
  },
  {
   "cell_type": "code",
   "execution_count": 17,
   "metadata": {},
   "outputs": [
    {
     "name": "stdin",
     "output_type": "stream",
     "text": [
      "\n",
      "Enty your username:  u\n",
      "Should rats be removed from Lumbridge Castle? (Y/N) y\n",
      "Would another user like to answer? (Y/N) y\n",
      "\n",
      "Enty your username:  i\n",
      "Should rats be removed from Lumbridge Castle? (Y/N) y\n",
      "Would another user like to answer? (Y/N) y\n",
      "\n",
      "Enty your username:  o\n",
      "Should rats be removed from Lumbridge Castle? (Y/N) y\n",
      "Would another user like to answer? (Y/N) y\n",
      "\n",
      "Enty your username:  a\n",
      "Should rats be removed from Lumbridge Castle? (Y/N) y\n",
      "Would another user like to answer? (Y/N) y\n",
      "\n",
      "Enty your username:  m\n",
      "Should rats be removed from Lumbridge Castle? (Y/N) n\n",
      "Would another user like to answer? (Y/N) y\n",
      "\n",
      "Enty your username:  b\n",
      "Should rats be removed from Lumbridge Castle? (Y/N) n\n",
      "Would another user like to answer? (Y/N) y\n",
      "\n",
      "Enty your username:  r\n",
      "Should rats be removed from Lumbridge Castle? (Y/N) n\n",
      "Would another user like to answer? (Y/N) n\n"
     ]
    },
    {
     "name": "stdout",
     "output_type": "stream",
     "text": [
      "\n",
      "--- Poll Results --- \n",
      "\n",
      "x answered the poll\n",
      "y answered the poll\n",
      "u answered the poll\n",
      "i answered the poll\n",
      "m answered the poll\n",
      "o answered the poll\n",
      "a answered the poll\n",
      "b answered the poll\n",
      "r answered the poll\n",
      "\n",
      "Poll passes with 6 yes votes, and 3 no votes\n"
     ]
    }
   ],
   "source": [
    "# filling / returning a dictionary with user input\n",
    "polling = True\n",
    "def polling(polling):\n",
    "    while polling:\n",
    "        name = input(\"\\nEnty your username: \")\n",
    "        response = input(\"Should rats be removed from Lumbridge Castle? (Y/N)\")\n",
    "\n",
    "        if response == 'Y' or 'N':\n",
    "            responses[name] = response.upper()\n",
    "        else:\n",
    "            print(\"invalid response!\")\n",
    "\n",
    "        repeat = input('Would another user like to answer? (Y/N)')\n",
    "\n",
    "        if repeat.upper() == 'N':\n",
    "            polling = False\n",
    "    return results\n",
    "        \n",
    "results = polling(polling)\n",
    "    \n",
    "print(\"\\n--- Poll Results --- \\n\")\n",
    "\n",
    "yes = 0\n",
    "no = 0\n",
    "for name, response in responses.items():\n",
    "    print(name + \" answered the poll\")\n",
    "    if response == 'Y':\n",
    "        yes += 1\n",
    "    else:\n",
    "        no += 1\n",
    "        \n",
    "if yes > no:\n",
    "    print(\"\\nPoll passes with \" + str(yes) + \" yes votes, and \" + str(no) + \" no votes\")\n",
    "else:\n",
    "    print(\"\\nPoll does not pass!\")"
   ]
  },
  {
   "cell_type": "markdown",
   "metadata": {},
   "source": [
    "# Functions"
   ]
  },
  {
   "cell_type": "markdown",
   "metadata": {},
   "source": [
    "## Positional, kewords, multiple arguments"
   ]
  },
  {
   "cell_type": "code",
   "execution_count": 46,
   "metadata": {},
   "outputs": [
    {
     "name": "stdout",
     "output_type": "stream",
     "text": [
      "Your name is 40, your age is karl\n",
      "\n",
      "Your name is jack, your age is 40\n",
      "\n",
      "Your name is default, your age is 10\n",
      "\n",
      "Your name is default, your age is 10 and your fav team is the Greenbay Packers\n",
      "\n",
      "Welcome RunTheTable\n",
      "Your Barbarian is armed with...\n",
      " - sword\n",
      " - shield\n",
      " - platebody\n",
      " - platelegs\n",
      "\n",
      "\n",
      "Welcome PackersFan123\n",
      "Your Wizard is armed with...\n",
      " - Fire Staff\n",
      " - Mage book\n",
      " - robes\n",
      " - elder chaos hood\n",
      "\n",
      "\n"
     ]
    }
   ],
   "source": [
    "# Keyword arguments and default values\n",
    "\n",
    "def positional(age, name='default', favoriteTeam = ''):\n",
    "    if favoriteTeam:\n",
    "        return print(\"Your name is \" + str(name) + \", your age is \" + str(age) + \" and your fav team is the \" + favoriteTeam + \"\\n\")\n",
    "        \n",
    "    else:\n",
    "        return print(\"Your name is \" + str(name) + \", your age is \" + str(age) + \"\\n\")\n",
    "    \n",
    "positional('karl', 40)\n",
    "positional(name = 'jack', age=40)\n",
    "positional(age=10)\n",
    "positional(age=10, favoriteTeam = 'Greenbay Packers')\n",
    "\n",
    "\n",
    "# passing arbitrary numbers of arguments to functions\n",
    "def make_warrior(userName, warClass, **armor):\n",
    "    warrior = {}\n",
    "    inventory = {}\n",
    "    warrior['Username'] = userName\n",
    "    warrior['Class'] = warClass\n",
    "    \n",
    "    for slot, item in armor.items():\n",
    "        inventory[slot] = item\n",
    "    \n",
    "    warrior['Inventory'] = inventory\n",
    "    print(\"Welcome \" + warrior['Username'] + \"\\nYour \" + warClass + \" is armed with...\")\n",
    "    \n",
    "    for slot, item in warrior['Inventory'].items():\n",
    "        print(\" - \" + item)\n",
    "    \n",
    "    print(\"\\n\")\n",
    "    \n",
    "    return warrior\n",
    "\n"
   ]
  },
  {
   "cell_type": "markdown",
   "metadata": {},
   "source": [
    "## Importing"
   ]
  },
  {
   "cell_type": "code",
   "execution_count": 50,
   "metadata": {},
   "outputs": [],
   "source": [
    "import Warrior as warrior\n",
    "\n",
    "# to import multiple functions, or just a function\n",
    "from Warrior import make_warrior\n",
    "\n",
    "Logan = warrior.make_warrior('RunTheTable','Barbarian', weapon='sword', offhand='shield', body='platebody', legs='platelegs')\n",
    "Sean = make_warrior('PackersFan123','Wizard', weapon='Fire Staff', offhand='Mage book', body='robes', head='elder chaos hood')"
   ]
  },
  {
   "cell_type": "markdown",
   "metadata": {},
   "source": [
    "# Classes"
   ]
  },
  {
   "cell_type": "code",
   "execution_count": null,
   "metadata": {},
   "outputs": [],
   "source": [
    "# classes represent real-world things and situations\n",
    "# objects are created based on classes\n",
    "# Classes define general behavior of all objects\n",
    "# objects, when created, are equipped with general behavior of their class\n",
    "# objects can then be given unique traits\n",
    "\n",
    "# Instantiation = making an object from a class, we work with instances of a class"
   ]
  },
  {
   "cell_type": "code",
   "execution_count": 65,
   "metadata": {},
   "outputs": [
    {
     "name": "stdout",
     "output_type": "stream",
     "text": [
      "My rangers name is CarryTheBoat\n",
      "Range Attack: 70\n",
      "Defense: 1\n",
      "Hitpoints: 40\n",
      "CarryTheBoat is now attacking!\n",
      "CarryTheBoat Is now defending!\n",
      "CarryTheBoat is on the move!\n"
     ]
    }
   ],
   "source": [
    "class Ranger():\n",
    "    def __init__(self, name, rangeAttack, defense, hitpoints):\n",
    "        self.name = name\n",
    "        self.rangeAttack = rangeAttack\n",
    "        self.defense = defense\n",
    "        self.hitpoints = hitpoints\n",
    "        \n",
    "    def attack(self):\n",
    "        print(self.name + \" is now attacking!\")\n",
    "        \n",
    "    def defend(self):\n",
    "        print(self.name + \" Is now defending!\")\n",
    "        \n",
    "    def move(self):\n",
    "        print(self.name + \" is on the move!\")\n",
    "        \n",
    "my_ranger = Ranger('CarryTheBoat', 70, 1, 40)\n",
    "print(\"My rangers name is \" + my_ranger.name)\n",
    "print(\"Range Attack: \" + str(my_ranger.rangeAttack))\n",
    "print(\"Defense: \" + str(my_ranger.defense))\n",
    "print(\"Hitpoints: \" + str(my_ranger.hitpoints))\n",
    "my_ranger.attack()\n",
    "my_ranger.defend()\n",
    "my_ranger.move()"
   ]
  }
 ],
 "metadata": {
  "kernelspec": {
   "display_name": "Python 3",
   "language": "python",
   "name": "python3"
  },
  "language_info": {
   "codemirror_mode": {
    "name": "ipython",
    "version": 3
   },
   "file_extension": ".py",
   "mimetype": "text/x-python",
   "name": "python",
   "nbconvert_exporter": "python",
   "pygments_lexer": "ipython3",
   "version": "3.7.4"
  }
 },
 "nbformat": 4,
 "nbformat_minor": 4
}
