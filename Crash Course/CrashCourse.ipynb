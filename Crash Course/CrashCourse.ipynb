{
 "cells": [
  {
   "cell_type": "code",
   "execution_count": null,
   "metadata": {},
   "outputs": [],
   "source": [
    "# Developer: Logan"
   ]
  },
  {
   "cell_type": "markdown",
   "metadata": {},
   "source": [
    "# Python Crash Course, 2nd Edition"
   ]
  },
  {
   "cell_type": "code",
   "execution_count": null,
   "metadata": {},
   "outputs": [],
   "source": [
    "import this"
   ]
  },
  {
   "cell_type": "markdown",
   "metadata": {},
   "source": [
    "# Newbie refreshers"
   ]
  },
  {
   "cell_type": "markdown",
   "metadata": {},
   "source": [
    "## Lists"
   ]
  },
  {
   "cell_type": "markdown",
   "metadata": {},
   "source": [
    "### List Basics"
   ]
  },
  {
   "cell_type": "code",
   "execution_count": null,
   "metadata": {},
   "outputs": [],
   "source": [
    "stocks = ['TSLA', 'SPOT', 'MDB','SMPL', 'IOVA','CRSP']\n",
    "print(stocks)\n",
    "del stocks[-1]\n",
    "print(stocks)\n",
    "stocks.append('AMZN')\n",
    "print(stocks)\n",
    "stocks.insert(3, 'MELI')\n",
    "print(stocks)\n",
    "\n",
    "pop_a_stock = stocks.pop(0)\n",
    "print(pop_a_stock)\n",
    "\n",
    "stocks.remove('IOVA')\n",
    "print(stocks)\n",
    "\n",
    "print(\"how to print\" + \"\\n\" + \"new lines\")\n",
    "\n",
    "stocks.sort(reverse=True)\n",
    "print(stocks)\n",
    "\n",
    "print(sorted(stocks))\n",
    "\n",
    "# reverse does not sort backwards alphabetically, it just reverses whatever's there\n",
    "stocks.reverse()\n",
    "print(stocks)\n",
    "\n",
    "print(len(stocks))"
   ]
  },
  {
   "cell_type": "markdown",
   "metadata": {},
   "source": [
    "### Working with lists"
   ]
  },
  {
   "cell_type": "code",
   "execution_count": null,
   "metadata": {},
   "outputs": [],
   "source": [
    "for stock in stocks:\n",
    "    print(stock)\n",
    "    \n",
    "x = range(1,10)\n",
    "nums = []\n",
    "for num in x:\n",
    "    nums.append(num**2)\n",
    "    \n",
    "print(nums)\n",
    "min(nums)\n",
    "max(nums)\n",
    "sum(nums)\n",
    "\n",
    "# List comprehensions\n",
    "More_Nums = [value**3 for value in range(1,11)]\n",
    "print(More_Nums)\n",
    "print(More_Nums[1:4])\n",
    "print(More_Nums[:5])\n",
    "print(More_Nums[5:])\n",
    "\n",
    "for stock in stocks[2:]:\n",
    "    print(stock)\n",
    "    \n",
    "# lists are useful in gaming, for example, adding highscores list, or getting top 3 scores\n",
    "\n",
    "# copy a list\n",
    "\n",
    "stocks2 = stocks[:]\n",
    "stocks2.append('SQ')\n",
    "print(stocks)\n",
    "print(stocks2)\n",
    "\n",
    "# Tuples are immutable (cannot change) lists\n",
    "dimensions = (10, 20)\n",
    "print(dimensions[0])\n",
    "\n"
   ]
  },
  {
   "cell_type": "markdown",
   "metadata": {},
   "source": [
    "### If statements"
   ]
  },
  {
   "cell_type": "code",
   "execution_count": null,
   "metadata": {},
   "outputs": [],
   "source": [
    "users = ['Tim', 'Jessica', 'Logan']\n",
    "user = 'Butch'\n",
    "\n",
    "if user not in users:\n",
    "    print('User, ' + user + ', not found.')\n",
    "    \n",
    "age = 42\n",
    "if age < 4:\n",
    "    price = 0\n",
    "elif age < 18:\n",
    "    price = 5\n",
    "elif age <65:\n",
    "    price = 10\n",
    "else:\n",
    "    price = 5\n",
    "    \n",
    "print(price)\n",
    "\n",
    "empty = []"
   ]
  },
  {
   "cell_type": "markdown",
   "metadata": {},
   "source": [
    "### Dictionaries"
   ]
  },
  {
   "cell_type": "code",
   "execution_count": null,
   "metadata": {},
   "outputs": [],
   "source": [
    "goblin = {'color': 'Green', 'hitpoints':5, 'maxHit': 2}\n",
    "print(goblin['color'])\n",
    "print(goblin['maxHit'])\n",
    "goblin['location'] = 'Lumbridge'\n",
    "goblin['color'] = 'Brown'\n",
    "print(goblin['color'])\n",
    "\n",
    "chicken = {'x_pos': 0, 'y_pos':10, 'speed':'medium', 'error_log':'chicken stuck on fence'}\n",
    "\n",
    "def moveObject(enemy, horz, vert):\n",
    "    if enemy['speed'] == 'slow':\n",
    "        increment = 1\n",
    "    elif enemy['speed'] == 'medium':\n",
    "        increment = 2\n",
    "    elif enemy['speed'] == 'fast':\n",
    "        increment = 3\n",
    "        \n",
    "    enemy['x_pos'] = enemy['x_pos'] + increment * horz\n",
    "    enemy['y_pos'] = enemy['y_pos'] + increment * vert\n",
    "    \n",
    "    return enemy\n",
    "\n",
    "print(\"Chicken starting coordinates...\" + \"\\n\" + 'x-axis: ' + str(chicken['x_pos']) \n",
    "     + \"\\n\" + 'y-axis: ' + str(chicken['y_pos']))\n",
    "\n",
    "chicken = moveObject(chicken, 3, 5)\n",
    "print(\"Chicken new coordinates...\" + \"\\n\" + 'x-axis: ' + str(chicken['x_pos']) \n",
    "     + \"\\n\" + 'y-axis: ' + str(chicken['y_pos']))\n",
    "\n",
    "print(chicken)\n",
    "del chicken['error_log']\n",
    "print(chicken)"
   ]
  },
  {
   "cell_type": "code",
   "execution_count": null,
   "metadata": {},
   "outputs": [],
   "source": [
    "from collections import OrderedDict\n",
    "\n",
    "#example using OrderedDict Class from Collections module \n",
    "\n",
    "fav_stocks = OrderedDict()\n",
    "\n",
    "fav_stocks['carl'] = 'XOM'\n",
    "fav_stocks['lucy'] = 'LULU'\n",
    "fav_stocks['chad'] = 'NKE'\n",
    "fav_stocks['logan'] = 'TSLA'\n",
    "fav_stocks['john'] = 'AAPL'\n",
    "\n",
    "# fav_stocks = {\n",
    "#     'carl':'XOM',\n",
    "#     'lucy':'LULU',\n",
    "#     'chad':'NKE',\n",
    "#     'logan':'TSLA',\n",
    "#     'john':'AAPL'\n",
    "# }\n",
    "\n",
    "# looping through a dictionary\n",
    "for person, stock in fav_stocks.items():\n",
    "    print(\"\\n\" + person + \"'s favorite stock is \" + stock)\n",
    "    \n",
    "# notice what .items() does\n",
    "print(fav_stocks)\n",
    "print(fav_stocks.items())\n",
    "\n",
    "# Looping for just the keys or values\n",
    "for person in fav_stocks.keys():\n",
    "    print(person)\n",
    "    \n",
    "for stock in fav_stocks.values():\n",
    "    print(stock)\n",
    "    \n",
    "if 'sean' not in fav_stocks.keys():\n",
    "    print('Sean, what is your fav stock??')\n",
    "    \n",
    "# sort a for loop by keys\n",
    "for person in sorted(fav_stocks.keys()):\n",
    "    print('Thank you ' + person + ' for taking the poll')\n",
    "    \n",
    "# sets are unique. What if someone has a similar fav stock, and we want just the fav stocks, not repeated?\n",
    "fav_stocks['Dai'] = 'AAPL'\n",
    "print(fav_stocks)\n",
    "print('~~~ These are the favorite stocks ~~~')\n",
    "for stock in sorted(set(fav_stocks.values())):\n",
    "    print(stock + '\\n')"
   ]
  },
  {
   "cell_type": "markdown",
   "metadata": {},
   "source": [
    "### Nesting"
   ]
  },
  {
   "cell_type": "markdown",
   "metadata": {},
   "source": [
    "#### Dictionary inside a list"
   ]
  },
  {
   "cell_type": "code",
   "execution_count": null,
   "metadata": {},
   "outputs": [],
   "source": [
    "BlackKnight = {'name':'Black Knight','hitpoints': 20, 'maxhit': 10, 'speed':5}\n",
    "Dragon = {'name':'Dragon','hitpoints': 30, 'maxhit': 20, 'speed':2}\n",
    "Demon = {'name':'Demon','hitpoints': 15, 'maxhit': 7, 'speed':4}\n",
    "Wizard = {'name':'Wizard','hitpoints': 10, 'maxhit': 15, 'speed':3}\n",
    "\n",
    "enemies = []\n",
    "\n",
    "# make 3 of each enemy\n",
    "for enemyNum in range(3):\n",
    "    enemies.append(BlackKnight)\n",
    "    enemies.append(Dragon)\n",
    "    enemies.append(Demon)    \n",
    "    enemies.append(Wizard)\n",
    "    \n",
    "# show some enemies\n",
    "for enemy in enemies[:6]:\n",
    "    print(enemy['name'])\n",
    "    \n",
    "print(\"Total number of enemies: \" + str(len(enemies)))"
   ]
  },
  {
   "cell_type": "markdown",
   "metadata": {},
   "source": [
    "#### List in a dictionary"
   ]
  },
  {
   "cell_type": "code",
   "execution_count": null,
   "metadata": {},
   "outputs": [],
   "source": [
    "pokeBowl = {\n",
    "    'base': 'brown rice',\n",
    "    'toppings': ['tuna','avocado','sesame seeds','seaweed','octopus']\n",
    "}\n",
    "print('you ordered a ' + pokeBowl['base'] + ' poke bowl with the following toppings...')\n",
    "for topping in pokeBowl['toppings']:\n",
    "    print(topping)\n",
    "\n",
    "print('\\n')\n",
    "pokeBowls = {\n",
    "    'john': ['tuna', 'avocado', 'sweet potato'],\n",
    "    'logan': ['salmon', 'sesame seeds', 'tamago'],\n",
    "    'wendy' : ['octopus', 'seaweed', 'daikon']\n",
    "}\n",
    "\n",
    "for name, toppings in pokeBowls.items():\n",
    "    print(name.title() + \"'s favorite toppings are...\")\n",
    "    for topping in toppings:\n",
    "        print(topping)\n",
    "        \n",
    "    print('\\n')"
   ]
  },
  {
   "cell_type": "markdown",
   "metadata": {},
   "source": [
    "#### Dictionary in a dictionary"
   ]
  },
  {
   "cell_type": "code",
   "execution_count": null,
   "metadata": {},
   "outputs": [],
   "source": [
    "BlackKnight = {'name':'Black Knight','hitpoints': 20, 'maxhit': 10, 'speed':5}\n",
    "Dragon = {'name':'Dragon','hitpoints': 30, 'maxhit': 20, 'speed':2}\n",
    "Demon = {'name':'Demon','hitpoints': 15, 'maxhit': 7, 'speed':4}\n",
    "Wizard = {'name':'Wizard','hitpoints': 10, 'maxhit': 15, 'speed':3}\n",
    "\n",
    "enemies = {\n",
    "    'BlackKnight':BlackKnight,\n",
    "    'Dragon': Dragon,\n",
    "    'Demon': Demon,\n",
    "    'Wizard': Wizard\n",
    "}\n",
    "for enemyName, enemy_info in enemies.items():\n",
    "    print('\\nName: ' + enemyName)\n",
    "    print('Max Hit: ' + str(enemy_info['maxhit']))\n",
    "    print('Hit Points: ' + str(enemy_info['hitpoints']))\n",
    "    print('Speed: ' + str(enemy_info['speed']))"
   ]
  },
  {
   "cell_type": "markdown",
   "metadata": {},
   "source": [
    "# Begin New Stuff"
   ]
  },
  {
   "cell_type": "markdown",
   "metadata": {},
   "source": [
    "# User Input, while loops"
   ]
  },
  {
   "cell_type": "markdown",
   "metadata": {},
   "source": [
    "## Simple Input "
   ]
  },
  {
   "cell_type": "code",
   "execution_count": null,
   "metadata": {},
   "outputs": [],
   "source": [
    "welcome = 'Welcome to Warcraft'\n",
    "welcome += '\\nWhat is your combat class? '\n",
    "combatClass = input(welcome)\n",
    "print('Looks like you are a ' + combatClass)\n",
    "familiarity = int(input('On a scale of 1-10, how familiar are you with RPGs?'))"
   ]
  },
  {
   "cell_type": "markdown",
   "metadata": {},
   "source": [
    "## Input in a while loop"
   ]
  },
  {
   "cell_type": "code",
   "execution_count": null,
   "metadata": {},
   "outputs": [],
   "source": [
    "prompt = \"\\ntell me someting and i'll repeat it\"\n",
    "prompt += \"\\nenter 'quit' to end the program.\"\n",
    "# flags are used to determine if a program should still be running\n",
    "# we can write our games to run while the flag is set to true, stop when false\n",
    "\n",
    "active = True\n",
    "while active:\n",
    "    message = input(prompt)\n",
    "    \n",
    "    if message =='quit':\n",
    "        active = False\n",
    "# break out from a while loop\n",
    "    if message == 'break':\n",
    "        break\n",
    "        \n",
    "    else:\n",
    "        print(\"\\n\" + message)\n",
    "        \n",
    "# using continue\n",
    "num = 0\n",
    "while num <10:\n",
    "    num += 1\n",
    "    if num %2 == 0:\n",
    "        continue\n",
    "    print(num)"
   ]
  },
  {
   "cell_type": "markdown",
   "metadata": {},
   "source": [
    "## Modify lists using while loop"
   ]
  },
  {
   "cell_type": "code",
   "execution_count": null,
   "metadata": {},
   "outputs": [],
   "source": [
    "# use while loops to modify lists or dictionaries that you are working through\n",
    "# moving items from one list to another\n",
    "inventory = ['hammer', 'saw', 'bucket', 'sword']\n",
    "bank = []\n",
    "def inventToBank(inventory, bank):\n",
    "    while inventory:\n",
    "        item = inventory.pop()\n",
    "        print(\"Moving a \" + item + \" to your bank!\")\n",
    "        bank.append(item)\n",
    "        bank.append('saw')\n",
    "\n",
    "    print(\"bank contains\")\n",
    "    for item in bank:\n",
    "        print(item)\n",
    "\n",
    "    print(\"\\nwe have too many saws... let's remove them\\n\")\n",
    "\n",
    "    while 'saw' in bank:\n",
    "        bank.remove('saw')\n",
    "\n",
    "    print(\"bank --> \" + str(bank))\n",
    "    print(\"inventory --> \" + str(inventory))\n",
    "    \n",
    "inventToBank(inventory, bank)"
   ]
  },
  {
   "cell_type": "markdown",
   "metadata": {},
   "source": [
    "## While loop for polling using input"
   ]
  },
  {
   "cell_type": "code",
   "execution_count": null,
   "metadata": {},
   "outputs": [],
   "source": [
    "# filling / returning a dictionary with user input\n",
    "polling = True\n",
    "responses = {}\n",
    "results = {}\n",
    "\n",
    "def polling(polling):\n",
    "    while polling:\n",
    "        name = input(\"\\nEnter your username: \")\n",
    "        response = input(\"Should rats be removed from Lumbridge Castle? (Y/N)\")\n",
    "\n",
    "        if response == 'Y' or 'N':\n",
    "            responses[name] = response.upper()\n",
    "        else:\n",
    "            print(\"invalid response!\")\n",
    "\n",
    "        repeat = input('Would another user like to answer? (Y/N)')\n",
    "\n",
    "        if repeat.upper() == 'N':\n",
    "            polling = False\n",
    "    return results\n",
    "        \n",
    "results = polling(polling)\n",
    "    \n",
    "print(\"\\n--- Poll Results --- \\n\")\n",
    "\n",
    "yes = 0\n",
    "no = 0\n",
    "\n",
    "for name, response in responses.items():\n",
    "    print(name + \" answered the poll\")\n",
    "    if response == 'Y':\n",
    "        yes += 1\n",
    "    else:\n",
    "        no += 1\n",
    "        \n",
    "if yes > no:\n",
    "    print(\"\\nPoll passes with \" + str(yes) + \" yes votes, and \" + str(no) + \" no votes\")\n",
    "else:\n",
    "    print(\"\\nPoll does not pass!\")"
   ]
  },
  {
   "cell_type": "markdown",
   "metadata": {},
   "source": [
    "# Functions"
   ]
  },
  {
   "cell_type": "markdown",
   "metadata": {},
   "source": [
    "## Positional, kewords, multiple arguments"
   ]
  },
  {
   "cell_type": "code",
   "execution_count": null,
   "metadata": {},
   "outputs": [],
   "source": [
    "# Keyword arguments and default values\n",
    "\n",
    "def positional(age, name='default', favoriteTeam = ''):\n",
    "    if favoriteTeam:\n",
    "        return print(\"Your name is \" + str(name) + \", your age is \" + str(age) + \" and your fav team is the \" + favoriteTeam + \"\\n\")\n",
    "        \n",
    "    else:\n",
    "        return print(\"Your name is \" + str(name) + \", your age is \" + str(age) + \"\\n\")\n",
    "    \n",
    "positional('karl', 40)\n",
    "positional(name = 'jack', age=40)\n",
    "positional(age=10)\n",
    "positional(age=10, favoriteTeam = 'Greenbay Packers')\n",
    "\n",
    "\n",
    "# passing arbitrary numbers of arguments to functions\n",
    "def make_warrior(userName, warClass, **armor):\n",
    "    warrior = {}\n",
    "    inventory = {}\n",
    "    warrior['Username'] = userName\n",
    "    warrior['Class'] = warClass\n",
    "    \n",
    "    for slot, item in armor.items():\n",
    "        inventory[slot] = item\n",
    "    \n",
    "    warrior['Inventory'] = inventory\n",
    "    print(\"Welcome \" + warrior['Username'] + \"\\nYour \" + warClass + \" is armed with...\")\n",
    "    \n",
    "    for slot, item in warrior['Inventory'].items():\n",
    "        print(\" - \" + item)\n",
    "    \n",
    "    print(\"\\n\")\n",
    "    \n",
    "    return warrior\n",
    "\n"
   ]
  },
  {
   "cell_type": "markdown",
   "metadata": {},
   "source": [
    "## Importing"
   ]
  },
  {
   "cell_type": "code",
   "execution_count": null,
   "metadata": {},
   "outputs": [],
   "source": [
    "import Warrior as warrior\n",
    "\n",
    "# to import multiple functions, or just a function\n",
    "from Warrior import make_warrior\n",
    "\n",
    "Logan = warrior.make_warrior('RunTheTable','Barbarian', weapon='sword', offhand='shield', body='platebody', legs='platelegs')\n",
    "Sean = make_warrior('PackersFan123','Wizard', weapon='Fire Staff', offhand='Mage book', body='robes', head='elder chaos hood')"
   ]
  },
  {
   "cell_type": "markdown",
   "metadata": {},
   "source": [
    "# Classes"
   ]
  },
  {
   "cell_type": "code",
   "execution_count": null,
   "metadata": {},
   "outputs": [],
   "source": [
    "# classes represent real-world things and situations\n",
    "# objects are created based on classes\n",
    "# Classes define general behavior of all objects\n",
    "# objects, when created, are equipped with general behavior of their class\n",
    "# objects can then be given unique traits\n",
    "\n",
    "# Instantiation = making an object from a class, we work with instances of a class"
   ]
  },
  {
   "cell_type": "code",
   "execution_count": 1,
   "metadata": {},
   "outputs": [
    {
     "name": "stdout",
     "output_type": "stream",
     "text": [
      "My rangers name is CarryTheBoat\n",
      "Range Attack: 70\n",
      "Defense: 1\n",
      "Hitpoints: 40\n",
      "CarryTheBoat is now attacking!\n",
      "CarryTheBoat Is now defending!\n",
      "CarryTheBoat is on the move!\n"
     ]
    }
   ],
   "source": [
    "class Ranger():\n",
    "    def __init__(self, name, rangeAttack, defense, hitpoints):\n",
    "        self.name = name\n",
    "        self.rangeAttack = rangeAttack\n",
    "        self.defense = defense\n",
    "        self.hitpoints = hitpoints\n",
    "        \n",
    "    def attack(self):\n",
    "        print(self.name + \" is now attacking!\")\n",
    "        \n",
    "    def defend(self):\n",
    "        print(self.name + \" Is now defending!\")\n",
    "        \n",
    "    def move(self):\n",
    "        print(self.name + \" is on the move!\")\n",
    "        \n",
    "my_ranger = Ranger('CarryTheBoat', 70, 1, 40)\n",
    "print(\"My rangers name is \" + my_ranger.name)\n",
    "print(\"Range Attack: \" + str(my_ranger.rangeAttack))\n",
    "print(\"Defense: \" + str(my_ranger.defense))\n",
    "print(\"Hitpoints: \" + str(my_ranger.hitpoints))\n",
    "my_ranger.attack()\n",
    "my_ranger.defend()\n",
    "my_ranger.move()"
   ]
  },
  {
   "cell_type": "code",
   "execution_count": 2,
   "metadata": {},
   "outputs": [
    {
     "name": "stdout",
     "output_type": "stream",
     "text": [
      "This mount is a Green Dragon. \n",
      "It is 240 years old.\n",
      "One can be purchased from the Green Dragon breeder in Yanille\n",
      "This mount has traveled a total of 0 miles.\n",
      "This mount has traveled a total of 100 miles.\n",
      "You can't roll back the miles!\n",
      "This mount has traveled a total of 200 miles.\n",
      "This mount has traveled a total of 510 miles.\n"
     ]
    }
   ],
   "source": [
    "from Mount import Mount\n",
    "    \n",
    "greenDragon = Mount('Green Dragon', 240, 'Yanille')\n",
    "\n",
    "print(greenDragon.get_description())\n",
    "print(greenDragon.get_miles())\n",
    "\n",
    "#3 way to modify a an attributes value\n",
    "# #1 directly\n",
    "greenDragon.miles = 100\n",
    "print(greenDragon.get_miles())\n",
    "\n",
    "# #2, modifying (manually) using a method\n",
    "greenDragon.update_miles(50)\n",
    "greenDragon.update_miles(200)\n",
    "print(greenDragon.get_miles())\n",
    "\n",
    "# #3, incrementally updating using a method\n",
    "greenDragon.add_miles(310)\n",
    "print(greenDragon.get_miles())"
   ]
  },
  {
   "cell_type": "markdown",
   "metadata": {},
   "source": [
    "## Inheritance of classes"
   ]
  },
  {
   "cell_type": "code",
   "execution_count": 3,
   "metadata": {},
   "outputs": [
    {
     "name": "stdout",
     "output_type": "stream",
     "text": [
      "New description for this special Blue Dragon\n",
      "The Special Attack, Poison Pool, deals 33 damage!\n"
     ]
    }
   ],
   "source": [
    "from SpecialAttack import SpecialAttack\n",
    "\n",
    "# say you have a \"special\" class that inherits from the original, then want to add more\n",
    "# Parent Class + child class\n",
    "\n",
    "# lets say we start adding a lot of information to specialAttack, we can make a custom class for specialAttack since they are all custom\n",
    "        \n",
    "#super function tells python to call the __init__() method from the parent class (Mount)\n",
    "class CustomMount(Mount):\n",
    "    \n",
    "    def __init__(self, animal, age, location, attackName, attackDamage):\n",
    "        super().__init__(animal, age, location)\n",
    "        self.specialAttack = SpecialAttack(attackName, attackDamage)\n",
    "\n",
    "# notice this method is named the same as the parent class, thus overriding the parent\n",
    "    def get_description(self):\n",
    "        specialDescription = \"New description for this special \" + self.animal\n",
    "        return specialDescription\n",
    "        \n",
    "        \n",
    "blueDragon = CustomMount('Blue Dragon', 500, 'Edgeville', attackName = 'Poison Pool', attackDamage = 30)\n",
    "print(blueDragon.get_description())\n",
    "print(blueDragon.specialAttack.useSpecial())\n"
   ]
  },
  {
   "cell_type": "markdown",
   "metadata": {},
   "source": [
    "# Files and Exceptions "
   ]
  },
  {
   "cell_type": "code",
   "execution_count": 4,
   "metadata": {},
   "outputs": [
    {
     "name": "stdout",
     "output_type": "stream",
     "text": [
      "3.1415926535\n",
      "8979323846\n",
      "2643383279\n"
     ]
    }
   ],
   "source": [
    "# reading from file\n",
    "\n",
    "piPath = r'C:\\Users\\Logan.mcnulty\\Desktop\\Coding Stuff\\Python\\PythonNotebooks\\Crash Course\\Stuff\\pi_digits.txt'\n",
    "with open(piPath) as file_object:\n",
    "# Read in entire file\n",
    "    contents = file_object.read()\n",
    "    print(contents)\n",
    "\n",
    "# read line for line\n",
    "#     for line in file_object:\n",
    "#         print(line.rstrip())\n",
    "\n",
    "# store in a list object\n",
    "    lines = file_object.readlines()\n",
    "\n",
    "if lines:\n",
    "    pi = ''\n",
    "    for line in lines:\n",
    "        pi += line.rstrip()\n",
    "    print(pi)"
   ]
  },
  {
   "cell_type": "code",
   "execution_count": 5,
   "metadata": {},
   "outputs": [],
   "source": [
    "# writing to file\n",
    "\n",
    "newFile = 'stuff/programming.txt'\n",
    "\n",
    "with open(newFile, 'w') as file_object:\n",
    "    file_object.write(\"i love programming\\n\")\n",
    "    file_object.write(\"i also love organization\\n\")    \n",
    "    \n",
    "with open(newFile, 'a') as file_object:\n",
    "    file_object.write(\"i love digging through large data sets\\n\")\n",
    "    file_object.write(\"and i love creating apps that run in web browsers\\n\") "
   ]
  },
  {
   "cell_type": "code",
   "execution_count": 7,
   "metadata": {},
   "outputs": [
    {
     "name": "stdout",
     "output_type": "stream",
     "text": [
      "Please provide two numbers.\n",
      "Enter 'q' to escape\n"
     ]
    },
    {
     "name": "stdin",
     "output_type": "stream",
     "text": [
      "Enter First Number 8\n",
      "Enter Second Number 0\n"
     ]
    },
    {
     "name": "stdout",
     "output_type": "stream",
     "text": [
      "you cannot divide by zero\n"
     ]
    }
   ],
   "source": [
    "# Except\n",
    "print(\"Please provide two numbers.\\nEnter 'q' to escape\")\n",
    "while True:\n",
    "    firstNum = input('Enter First Number')\n",
    "    if firstNum == 'q':\n",
    "        break\n",
    "    secondNum = input('Enter Second Number')\n",
    "    if secondNum == 'q':\n",
    "        break\n",
    "    \n",
    "    try:\n",
    "        answer = int(firstNum) / int(secondNum)\n",
    "        print(answer)\n",
    "        break\n",
    "        \n",
    "    except:\n",
    "        print('you cannot divide by zero')\n",
    "        break"
   ]
  },
  {
   "cell_type": "code",
   "execution_count": 9,
   "metadata": {},
   "outputs": [
    {
     "ename": "SyntaxError",
     "evalue": "default 'except:' must be last (<ipython-input-9-8fd5fe391bee>, line 17)",
     "output_type": "error",
     "traceback": [
      "\u001b[1;36m  File \u001b[1;32m\"<ipython-input-9-8fd5fe391bee>\"\u001b[1;36m, line \u001b[1;32m17\u001b[0m\n\u001b[1;33m    print(filePath)\u001b[0m\n\u001b[1;37m               ^\u001b[0m\n\u001b[1;31mSyntaxError\u001b[0m\u001b[1;31m:\u001b[0m default 'except:' must be last\n"
     ]
    }
   ],
   "source": [
    "# analyzing text\n",
    "\n",
    "alice = 'Alice in Wonderland'\n",
    "aliceSplit = alice.split()\n",
    "print(aliceSplit)\n",
    "\n",
    "path = r'C:\\Users\\Logan.mcnulty\\Desktop\\Coding Stuff\\Python\\PythonNotebooks\\ehmatthes-pcc_2e-078318e\\chapter_10'\n",
    "files = ['alice.txt', 'siddhartha.txt', 'moby_dick.txt', 'little_women.txt']\n",
    "\n",
    "def countWords(fileName):\n",
    "    filePath = path + \"\\\\\" + fileName\n",
    "    try:\n",
    "        with open(filePath, encoding=\"utf8\") as f_obj:\n",
    "            contents = f_obj.read()\n",
    "    except:\n",
    "        print(\"Sorry, the filepath...\")\n",
    "        print(filePath)\n",
    "        print('...cannot be found')\n",
    "        \n",
    "# Failing silently\n",
    "#     except:\n",
    "#         pass\n",
    "        \n",
    "    else:\n",
    "        words = contents.split()\n",
    "        num_words = len(words)\n",
    "        print(fileName + \" has approximately \" + str(num_words) + \" words\")\n",
    "    return num_words\n",
    "\n",
    "for fileName in files:\n",
    "    countWords(fileName)"
   ]
  },
  {
   "cell_type": "markdown",
   "metadata": {},
   "source": [
    "# Json in Python"
   ]
  },
  {
   "cell_type": "code",
   "execution_count": 10,
   "metadata": {},
   "outputs": [
    {
     "name": "stdout",
     "output_type": "stream",
     "text": [
      "[1, 8, 27, 64, 125, 216, 343, 512, 729, 1000]\n"
     ]
    }
   ],
   "source": [
    "import json\n",
    "\n",
    "numbers = [value**3 for value in range(1,11)]\n",
    "\n",
    "filename = 'stuff/numbers.json'\n",
    "\n",
    "with open(filename, 'w') as f_obj:\n",
    "    json.dump(numbers, f_obj)\n",
    "\n",
    "with open(filename) as f_obj:\n",
    "    numbersLoaded = json.load(f_obj)\n",
    "    \n",
    "print(numbersLoaded)"
   ]
  },
  {
   "cell_type": "code",
   "execution_count": null,
   "metadata": {},
   "outputs": [],
   "source": [
    "filename = 'stuff/usernames.json'\n",
    "\n",
    "# Good example of refactoring functions\n",
    "\n",
    "def get_stored_username(filename):\n",
    "    try:\n",
    "        with open(filename) as f_obj:\n",
    "            username = json.load(f_obj)\n",
    "    except:\n",
    "        return None\n",
    "    else:\n",
    "        return username\n",
    "\n",
    "def store_username():\n",
    "    username = input(\"What is your name?\")\n",
    "    with open(filename, 'w') as f_obj:\n",
    "        json.dump(username, f_obj)\n",
    "        print(\"We'll remember you when you come back, \" + username + \"!\")\n",
    "\n",
    "    \n",
    "def greetUser(filename):\n",
    "    username = get_stored_username(filename)\n",
    "    if username: \n",
    "        print(\"Welcome back \" + username + \"!\")\n",
    "    else:\n",
    "        store_username()\n",
    "\n",
    "greetUser(filename)"
   ]
  },
  {
   "cell_type": "markdown",
   "metadata": {},
   "source": [
    "# Testing Code"
   ]
  },
  {
   "cell_type": "code",
   "execution_count": null,
   "metadata": {},
   "outputs": [],
   "source": [
    "import unittest\n",
    "\n",
    "def format_name():\n",
    "    print(\"Enter 'q' to exit\")\n",
    "    while True:\n",
    "        first = input(\"\\nEnter your first name: \")\n",
    "        if first == 'q':\n",
    "            break\n",
    "        last = input(\"\\nEnter your last name: \")\n",
    "        if last == 'q':\n",
    "            break\n",
    "        full_name = first + ' ' + last\n",
    "        return full_name.title()\n",
    "\n",
    "class NamestTestCase(unittest.TestCase):\n",
    "    def test_first_last_name(self):\n",
    "        formatted_name = format_name()\n",
    "        self.assertEqual(formatted_name, 'Janis Joplin')\n",
    "        \n",
    "unittest.main(argv=['first-arg-is-ignored'], exit=False)"
   ]
  }
 ],
 "metadata": {
  "kernelspec": {
   "display_name": "Python 3",
   "language": "python",
   "name": "python3"
  },
  "language_info": {
   "codemirror_mode": {
    "name": "ipython",
    "version": 3
   },
   "file_extension": ".py",
   "mimetype": "text/x-python",
   "name": "python",
   "nbconvert_exporter": "python",
   "pygments_lexer": "ipython3",
   "version": "3.7.4"
  }
 },
 "nbformat": 4,
 "nbformat_minor": 4
}
